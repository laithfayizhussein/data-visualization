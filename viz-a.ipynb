{
 "cells": [
  {
   "cell_type": "markdown",
   "source": [
    "# Lab 14: Data Visualization\n",
    "# by laith hussein\n"
   ],
   "metadata": {}
  },
  {
   "cell_type": "code",
   "execution_count": 86,
   "source": [
    "import pandas as pd\n",
    "import matplotlib.pyplot as plt\n",
    "import seaborn as sns"
   ],
   "outputs": [],
   "metadata": {}
  },
  {
   "cell_type": "markdown",
   "source": [
    "# Load data into Pandas DataFrame"
   ],
   "metadata": {}
  },
  {
   "cell_type": "code",
   "execution_count": 87,
   "source": [
    "song = pd.read_csv('top500.csv')\n",
    "song.head()\n"
   ],
   "outputs": [
    {
     "output_type": "execute_result",
     "data": {
      "text/plain": [
       "                            title  \\\n",
       "0            Like a Rolling Stone   \n",
       "1  (I Can't Get No) Satisfaction'   \n",
       "2                         Imagine   \n",
       "3                 What's Going On   \n",
       "4                         Respect   \n",
       "\n",
       "                                         description  \\\n",
       "0  \"I wrote it. I didn't fail. It was straight,\" ...   \n",
       "1  \"It's the riff heard round the world,\" says St...   \n",
       "2  John Lennon wrote \"Imagine,\" his greatest musi...   \n",
       "3  \"What's Going On\" is an exquisite plea for pea...   \n",
       "4  Otis Redding wrote \"Respect\" and recorded it f...   \n",
       "\n",
       "                                          appears on              artist  \\\n",
       "0                    Highway 61 Revisited (Columbia)           Bob Dylan   \n",
       "1                           Out of Our Heads (ABKCO)  The Rolling Stones   \n",
       "2                            Imagine (Capitol/Apple)         John Lennon   \n",
       "3                            What's Going On (Tamla)         Marvin Gaye   \n",
       "4  I Never Loved a Man the Way I Love You (Atlantic)     Aretha Franklin   \n",
       "\n",
       "                              writers                        producer  \\\n",
       "0                               Dylan                     Tom Wilson    \n",
       "1         Mick Jagger, Keith Richards              Andrew Loog Oldham   \n",
       "2                         John Lennon  Lennon, Phil Spector, Yoko Ono   \n",
       "3  Gaye, Renaldo Benson, Al Cleveland                           Gaye    \n",
       "4                        Otis Redding                    Jerry Wexler   \n",
       "\n",
       "        released    streak position  \n",
       "0     July, 1965  12 weeks    No. 2  \n",
       "1      May, 1965  14 weeks    No. 1  \n",
       "2  October, 1971   9 weeks    No. 3  \n",
       "3      Feb, 1971  13 weeks    No. 2  \n",
       "4    April, 1967  12 weeks    No. 1  "
      ],
      "text/html": [
       "<div>\n",
       "<style scoped>\n",
       "    .dataframe tbody tr th:only-of-type {\n",
       "        vertical-align: middle;\n",
       "    }\n",
       "\n",
       "    .dataframe tbody tr th {\n",
       "        vertical-align: top;\n",
       "    }\n",
       "\n",
       "    .dataframe thead th {\n",
       "        text-align: right;\n",
       "    }\n",
       "</style>\n",
       "<table border=\"1\" class=\"dataframe\">\n",
       "  <thead>\n",
       "    <tr style=\"text-align: right;\">\n",
       "      <th></th>\n",
       "      <th>title</th>\n",
       "      <th>description</th>\n",
       "      <th>appears on</th>\n",
       "      <th>artist</th>\n",
       "      <th>writers</th>\n",
       "      <th>producer</th>\n",
       "      <th>released</th>\n",
       "      <th>streak</th>\n",
       "      <th>position</th>\n",
       "    </tr>\n",
       "  </thead>\n",
       "  <tbody>\n",
       "    <tr>\n",
       "      <th>0</th>\n",
       "      <td>Like a Rolling Stone</td>\n",
       "      <td>\"I wrote it. I didn't fail. It was straight,\" ...</td>\n",
       "      <td>Highway 61 Revisited (Columbia)</td>\n",
       "      <td>Bob Dylan</td>\n",
       "      <td>Dylan</td>\n",
       "      <td>Tom Wilson</td>\n",
       "      <td>July, 1965</td>\n",
       "      <td>12 weeks</td>\n",
       "      <td>No. 2</td>\n",
       "    </tr>\n",
       "    <tr>\n",
       "      <th>1</th>\n",
       "      <td>(I Can't Get No) Satisfaction'</td>\n",
       "      <td>\"It's the riff heard round the world,\" says St...</td>\n",
       "      <td>Out of Our Heads (ABKCO)</td>\n",
       "      <td>The Rolling Stones</td>\n",
       "      <td>Mick Jagger, Keith Richards</td>\n",
       "      <td>Andrew Loog Oldham</td>\n",
       "      <td>May, 1965</td>\n",
       "      <td>14 weeks</td>\n",
       "      <td>No. 1</td>\n",
       "    </tr>\n",
       "    <tr>\n",
       "      <th>2</th>\n",
       "      <td>Imagine</td>\n",
       "      <td>John Lennon wrote \"Imagine,\" his greatest musi...</td>\n",
       "      <td>Imagine (Capitol/Apple)</td>\n",
       "      <td>John Lennon</td>\n",
       "      <td>John Lennon</td>\n",
       "      <td>Lennon, Phil Spector, Yoko Ono</td>\n",
       "      <td>October, 1971</td>\n",
       "      <td>9 weeks</td>\n",
       "      <td>No. 3</td>\n",
       "    </tr>\n",
       "    <tr>\n",
       "      <th>3</th>\n",
       "      <td>What's Going On</td>\n",
       "      <td>\"What's Going On\" is an exquisite plea for pea...</td>\n",
       "      <td>What's Going On (Tamla)</td>\n",
       "      <td>Marvin Gaye</td>\n",
       "      <td>Gaye, Renaldo Benson, Al Cleveland</td>\n",
       "      <td>Gaye</td>\n",
       "      <td>Feb, 1971</td>\n",
       "      <td>13 weeks</td>\n",
       "      <td>No. 2</td>\n",
       "    </tr>\n",
       "    <tr>\n",
       "      <th>4</th>\n",
       "      <td>Respect</td>\n",
       "      <td>Otis Redding wrote \"Respect\" and recorded it f...</td>\n",
       "      <td>I Never Loved a Man the Way I Love You (Atlantic)</td>\n",
       "      <td>Aretha Franklin</td>\n",
       "      <td>Otis Redding</td>\n",
       "      <td>Jerry Wexler</td>\n",
       "      <td>April, 1967</td>\n",
       "      <td>12 weeks</td>\n",
       "      <td>No. 1</td>\n",
       "    </tr>\n",
       "  </tbody>\n",
       "</table>\n",
       "</div>"
      ]
     },
     "metadata": {},
     "execution_count": 87
    }
   ],
   "metadata": {}
  }
 ],
 "metadata": {
  "orig_nbformat": 4,
  "language_info": {
   "name": "python",
   "version": "3.9.6",
   "mimetype": "text/x-python",
   "codemirror_mode": {
    "name": "ipython",
    "version": 3
   },
   "pygments_lexer": "ipython3",
   "nbconvert_exporter": "python",
   "file_extension": ".py"
  },
  "kernelspec": {
   "name": "python3",
   "display_name": "Python 3.9.6 64-bit ('.venv': poetry)"
  },
  "interpreter": {
   "hash": "3621d66826854fdb4cc17a862b64f83011b143e956030a3e8a05533c53f748ed"
  }
 },
 "nbformat": 4,
 "nbformat_minor": 2
}